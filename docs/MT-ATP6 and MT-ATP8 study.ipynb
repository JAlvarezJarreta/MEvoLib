{
 "cells": [
  {
   "cell_type": "markdown",
   "metadata": {},
   "source": [
    "<p style=\"text-align: justify\">We present here an example illustrating the potential of MEvoLib following the workflow presented in Figure 1. Our study is focused on the molecular evolution of two hmtDNA genes: <em>MT-ATP6</em> and <em>MT-ATP8</em>. We want to know if they have evolved similarly based on the following information: <strong>i)</strong> both genes encode proteins that belong to the same subunit of the ATP synthase enzyme; and, <strong>ii)</strong> these two genes are located in the same strand and they have an overlapping of 42bp.</p>\n",
    "&nbsp;\n",
    "&nbsp;\n",
    "<img src=\"http://zaramit.unizar.es/download/documents/figure1.png\" alt=\"Phylogenetic inference workflow\" width=\"90%\" />\n",
    "<p style=\"text-align: justify; margin-left: 3em; margin-right: 3em\"><strong>Figure 1:</strong> A common molecular evolution workflow: data fetching, clustering, multialignment, phylogenetic inference and building of the consensus tree.</p>\n",
    "&nbsp;\n",
    "&nbsp;\n",
    "<p style=\"text-align: justify\">First, we are going to download all the hmtDNA sequences from GenBank that have any information related with the <em>MT-ATP6</em> and <em>MT-ATP8</em> genes. The basic query to achieve this purpose would be:\n",
    "<pre>```\"homo sapiens\"[porgn] AND mitochondrion[Filter] NOT mRNA[Filter] AND (atp6 OR atp8)```</pre>\n",
    "But these genes are referred with different nomenclatures in the GenBank metadata. Therefore, our fetching source code is:</p>"
   ]
  },
  {
   "cell_type": "code",
   "execution_count": null,
   "metadata": {
    "collapsed": false,
    "scrolled": true
   },
   "outputs": [],
   "source": [
    "from MEvoLib.Fetch.BioSeqs import BioSeqs\n",
    "\n",
    "seq_db = BioSeqs.from_entrez(email='eg@test.com', entrez_db='nuccore',\n",
    "             query='\"homo sapiens\"[porgn] AND mitochondrion[Filter] NOT mRNA[Filter] AND (atp6 OR atpase6 ' \\\n",
    "                   'OR \"atpase 6\" OR \"atp synthase 6\" OR \"atpase subunit 6\" OR \"atp synthetase subunit 6\" ' \\\n",
    "                   'OR \"atp synthase f0 subunit 6\" OR \"atp synthase fo subunit 6\" OR atp8 OR atpase8 OR ' \\\n",
    "                   '\"atpase 8\" OR \"atp synthase 8\" OR \"atpase subunit 8\" OR \"atp synthetase subunit 8\" ' \\\n",
    "                   'OR \"atp synthase f0 subunit 8\" OR \"atp synthase fo subunit 8\")')\n",
    "seq_db.write('hmtDNA_ATP6.8_full.gb')\n",
    "print(seq_db.statistics())"
   ]
  },
  {
   "cell_type": "markdown",
   "metadata": {},
   "source": [
    "<p style=\"text-align: justify\">We would download 32548 sequences with the first query, whilst the one we have written in the source code fetches 32626 sequences (on 07/Jul/2016). We know two hmtDNA sequences (DQ862537.1 and FR695060.1) that have errors in their biological information, puzzling the genes' clustering of our target genes. Hence, we are going to remove them from the downloaded dataset:</p>"
   ]
  },
  {
   "cell_type": "code",
   "execution_count": null,
   "metadata": {
    "collapsed": false
   },
   "outputs": [],
   "source": [
    "for accession in ['DQ862537.1', 'FR695060.1'] :\n",
    "    del seq_db.data[accession]\n",
    "seq_db.write('hmtDNA_ATP6.8_curated.gb')\n",
    "print(seq_db.statistics())"
   ]
  },
  {
   "cell_type": "markdown",
   "metadata": {},
   "source": [
    "<p style=\"text-align: justify\">Next, we need to extract the genes we are interested in from the filtered dataset. For this example, we are going to focus exclusively on the CDS feature. In a complete study, we would also require the <em>gene</em> feature to include those sequences that might have only tagged the genes under this feature. The following source code presents the gene extraction applying the <em>Genes</em> method:</p>"
   ]
  },
  {
   "cell_type": "code",
   "execution_count": null,
   "metadata": {
    "collapsed": false
   },
   "outputs": [],
   "source": [
    "from MEvoLib import Cluster\n",
    "\n",
    "gene_dict = Cluster.get_subsets('genes', 'hmtDNA_ATP6.8_curated.gb', 'gb', ['CDS'], None, None,\n",
    "                                'hmtDNA_ATP6.8_curated.log')\n",
    "results = {'atp6': [], 'atp8': []}\n",
    "for key, value in gene_dict.items() :\n",
    "    if ( (len(value) > 0) and ('atp' in key) ) :\n",
    "        if ( '6' in key ) :\n",
    "            results['atp6'].extend(value)\n",
    "        else : # '8' in key\n",
    "            results['atp8'].extend(value)"
   ]
  },
  {
   "cell_type": "markdown",
   "metadata": {},
   "source": [
    "<p style=\"text-align: justify\">We have saved the log file to be able to check all those pairs of terms that our method has merged that do not have enough statistical representation in the dataset. The <em>Genes</em> method only uses the metadata information provided to match all the terms of a single gene. Afterwards, we extract those elements in the dictionary that refer to the <em>MT-ATP6</em> and <em>MT-ATP8</em> genes and we save the corresponding sequence fragments in two separated FASTA files. We are going to build the phylogenetic trees with FastTree and the <em>GTR+CAT</em> evolution model. To do so, we need to align the gene sequences first. Thus, the following code implements the multialignment procedure using Mafft in its default configuration (<em>--auto</em>) and the phylogenetic inference of each gene:</p>"
   ]
  },
  {
   "cell_type": "code",
   "execution_count": null,
   "metadata": {
    "collapsed": true
   },
   "outputs": [],
   "source": [
    "from Bio import SeqIO\n",
    "from MEvoLib import Align, Inference\n",
    "\n",
    "for key, value in results.items() :\n",
    "    SeqIO.write(value, '{}.fasta'.format(key), 'fasta')\n",
    "    Align.get_alignment('mafft', '{}.fasta'.format(key), 'fasta', args = 'default',\n",
    "                        outfile = '{}.aln'.format(key), outfile_format = 'fasta')\n",
    "    tree, score = Inference.get_phylogeny('fasttree', '{}.aln'.format(key), 'fasta',\n",
    "                                          args = 'default', outfile = '{}.newick'.format(key),\n",
    "                                          outfile_format = 'newick', bootstraps = 0)\n",
    "    print('{}: {}'.format(key, score))"
   ]
  },
  {
   "cell_type": "markdown",
   "metadata": {},
   "source": [
    "<p style=\"text-align: justify\">As we can see, the resultant phylogeny is returned and saved in a NEWICK file, and its maximum likelihood score is also returned. The inference workflow for this research would be completed with these last results. For instance, to extend our study to include the last stage of the workflow shown in Figure 1, we could be interested in analyzing the consensus tree composed from the <em>MT-ATP6</em> phylogenies of different species, using the Consense method from PHYLIP in its default configuration (<em>majority rule consensus</em>):</p>"
   ]
  },
  {
   "cell_type": "markdown",
   "metadata": {},
   "source": [
    "<pre>\n",
    "```python\n",
    "from MEvoLib import PhyloAssembly\n",
    "\n",
    "PhyloAssemble.get_consensus_tree('consense', 'atps.newick', 'newick', args = 'default',\n",
    "                                 outfile = 'cons/atps.newick', outfile_format = 'newick')\n",
    "```\n",
    "</pre>"
   ]
  }
 ],
 "metadata": {
  "kernelspec": {
   "display_name": "Python 3",
   "language": "python",
   "name": "python3"
  },
  "language_info": {
   "codemirror_mode": {
    "name": "ipython",
    "version": 3
   },
   "file_extension": ".py",
   "mimetype": "text/x-python",
   "name": "python",
   "nbconvert_exporter": "python",
   "pygments_lexer": "ipython3",
   "version": "3.5.1+"
  }
 },
 "nbformat": 4,
 "nbformat_minor": 0
}
